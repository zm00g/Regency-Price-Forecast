{
 "cells": [
  {
   "cell_type": "code",
   "execution_count": 1,
   "id": "1e7beee03c016b4e",
   "metadata": {
    "ExecuteTime": {
     "end_time": "2023-11-14T21:33:27.027945Z",
     "start_time": "2023-11-14T21:33:27.019814Z"
    },
    "collapsed": false
   },
   "outputs": [],
   "source": [
    "import pandas as pd\n",
    "import numpy as np"
   ]
  },
  {
   "cell_type": "code",
   "execution_count": 2,
   "id": "1eb97206ddffc5fc",
   "metadata": {
    "ExecuteTime": {
     "end_time": "2023-11-14T21:35:22.840310Z",
     "start_time": "2023-11-14T21:35:22.812540Z"
    },
    "collapsed": false
   },
   "outputs": [],
   "source": [
    "qpd_df = pd.read_csv(\"data/exports/qinn_processed_data.csv\")\n",
    "df = qpd_df.copy()"
   ]
  },
  {
   "cell_type": "code",
   "execution_count": 3,
   "id": "e71638a60324e64d",
   "metadata": {
    "ExecuteTime": {
     "end_time": "2023-11-14T21:35:39.525447Z",
     "start_time": "2023-11-14T21:35:39.517848Z"
    },
    "collapsed": false
   },
   "outputs": [
    {
     "data": {
      "text/html": [
       "<div>\n",
       "<style scoped>\n",
       "    .dataframe tbody tr th:only-of-type {\n",
       "        vertical-align: middle;\n",
       "    }\n",
       "\n",
       "    .dataframe tbody tr th {\n",
       "        vertical-align: top;\n",
       "    }\n",
       "\n",
       "    .dataframe thead th {\n",
       "        text-align: right;\n",
       "    }\n",
       "</style>\n",
       "<table border=\"1\" class=\"dataframe\">\n",
       "  <thead>\n",
       "    <tr style=\"text-align: right;\">\n",
       "      <th></th>\n",
       "      <th>room_num</th>\n",
       "      <th>room_type</th>\n",
       "      <th>customer_id</th>\n",
       "      <th>stay_duration</th>\n",
       "      <th>total_price</th>\n",
       "      <th>price</th>\n",
       "      <th>tax</th>\n",
       "      <th>customer_name</th>\n",
       "      <th>checkin_datetime</th>\n",
       "      <th>checkout_datetime</th>\n",
       "      <th>...</th>\n",
       "      <th>checkin_weekday</th>\n",
       "      <th>checkin_day_name</th>\n",
       "      <th>checkin_time_period</th>\n",
       "      <th>checkout_month</th>\n",
       "      <th>checkout_day</th>\n",
       "      <th>checkout_year</th>\n",
       "      <th>checkout_time</th>\n",
       "      <th>checkout_weekday</th>\n",
       "      <th>checkout_day_name</th>\n",
       "      <th>checkout_time_period</th>\n",
       "    </tr>\n",
       "  </thead>\n",
       "  <tbody>\n",
       "    <tr>\n",
       "      <th>5363</th>\n",
       "      <td>116</td>\n",
       "      <td>K</td>\n",
       "      <td>TX37159417</td>\n",
       "      <td>N</td>\n",
       "      <td>75.0</td>\n",
       "      <td>64.1</td>\n",
       "      <td>10.9</td>\n",
       "      <td>JAKISHA WELLS</td>\n",
       "      <td>2023-09-28 11:00:00</td>\n",
       "      <td>2023-09-29 11:00:00</td>\n",
       "      <td>...</td>\n",
       "      <td>3</td>\n",
       "      <td>Thursday</td>\n",
       "      <td>Morning</td>\n",
       "      <td>9</td>\n",
       "      <td>29</td>\n",
       "      <td>2023</td>\n",
       "      <td>11:00:00</td>\n",
       "      <td>4</td>\n",
       "      <td>Friday</td>\n",
       "      <td>Morning</td>\n",
       "    </tr>\n",
       "  </tbody>\n",
       "</table>\n",
       "<p>1 rows × 26 columns</p>\n",
       "</div>"
      ],
      "text/plain": [
       "      room_num room_type customer_id stay_duration  total_price  price   tax  \\\n",
       "5363       116         K  TX37159417             N         75.0   64.1  10.9   \n",
       "\n",
       "      customer_name     checkin_datetime    checkout_datetime  ...  \\\n",
       "5363  JAKISHA WELLS  2023-09-28 11:00:00  2023-09-29 11:00:00  ...   \n",
       "\n",
       "      checkin_weekday  checkin_day_name  checkin_time_period  checkout_month  \\\n",
       "5363                3          Thursday              Morning               9   \n",
       "\n",
       "      checkout_day checkout_year  checkout_time checkout_weekday  \\\n",
       "5363            29          2023       11:00:00                4   \n",
       "\n",
       "     checkout_day_name  checkout_time_period  \n",
       "5363            Friday               Morning  \n",
       "\n",
       "[1 rows x 26 columns]"
      ]
     },
     "execution_count": 3,
     "metadata": {},
     "output_type": "execute_result"
    }
   ],
   "source": [
    "df.sample()"
   ]
  },
  {
   "cell_type": "code",
   "execution_count": 4,
   "id": "3f819033a9af4f89",
   "metadata": {
    "collapsed": false
   },
   "outputs": [
    {
     "data": {
      "text/plain": [
       "checkin_year  checkin_month\n",
       "2022          10               13402.34\n",
       "              11               24283.33\n",
       "              12               31711.62\n",
       "2023          1                21984.73\n",
       "              2                17359.28\n",
       "              3                21070.20\n",
       "              4                23116.47\n",
       "              5                20981.48\n",
       "              6                34604.91\n",
       "              7                40508.55\n",
       "              8                36533.06\n",
       "              9                30241.80\n",
       "              10                3095.00\n",
       "Name: total_price, dtype: float64"
      ]
     },
     "execution_count": 4,
     "metadata": {},
     "output_type": "execute_result"
    }
   ],
   "source": [
    "df.groupby(['checkin_year','checkin_month'])['total_price'].sum()"
   ]
  },
  {
   "cell_type": "code",
   "execution_count": 5,
   "id": "3a89a563",
   "metadata": {},
   "outputs": [],
   "source": [
    "tp0 = df[df['total_price'] == 0]"
   ]
  },
  {
   "cell_type": "code",
   "execution_count": 6,
   "id": "acb286c8",
   "metadata": {},
   "outputs": [],
   "source": [
    "# Fill missing values with mean \n",
    "df['fill_mean'] = df['total_price']\n",
    "df['fill_mean'] = df['fill_mean'].replace(0.00, np.nan)"
   ]
  },
  {
   "cell_type": "code",
   "execution_count": 7,
   "id": "5b2d022c",
   "metadata": {},
   "outputs": [
    {
     "data": {
      "text/html": [
       "<div>\n",
       "<style scoped>\n",
       "    .dataframe tbody tr th:only-of-type {\n",
       "        vertical-align: middle;\n",
       "    }\n",
       "\n",
       "    .dataframe tbody tr th {\n",
       "        vertical-align: top;\n",
       "    }\n",
       "\n",
       "    .dataframe thead th {\n",
       "        text-align: right;\n",
       "    }\n",
       "</style>\n",
       "<table border=\"1\" class=\"dataframe\">\n",
       "  <thead>\n",
       "    <tr style=\"text-align: right;\">\n",
       "      <th></th>\n",
       "      <th>total_price</th>\n",
       "      <th>room_type</th>\n",
       "      <th>stay_duration</th>\n",
       "      <th>fill_p25</th>\n",
       "    </tr>\n",
       "  </thead>\n",
       "  <tbody>\n",
       "    <tr>\n",
       "      <th>12</th>\n",
       "      <td>0.0</td>\n",
       "      <td>NK</td>\n",
       "      <td>N</td>\n",
       "      <td>60.000</td>\n",
       "    </tr>\n",
       "    <tr>\n",
       "      <th>42</th>\n",
       "      <td>0.0</td>\n",
       "      <td>K</td>\n",
       "      <td>N</td>\n",
       "      <td>70.000</td>\n",
       "    </tr>\n",
       "    <tr>\n",
       "      <th>44</th>\n",
       "      <td>0.0</td>\n",
       "      <td>NK</td>\n",
       "      <td>N</td>\n",
       "      <td>51.675</td>\n",
       "    </tr>\n",
       "    <tr>\n",
       "      <th>54</th>\n",
       "      <td>0.0</td>\n",
       "      <td>K</td>\n",
       "      <td>N</td>\n",
       "      <td>60.000</td>\n",
       "    </tr>\n",
       "    <tr>\n",
       "      <th>57</th>\n",
       "      <td>0.0</td>\n",
       "      <td>K</td>\n",
       "      <td>N</td>\n",
       "      <td>67.500</td>\n",
       "    </tr>\n",
       "    <tr>\n",
       "      <th>...</th>\n",
       "      <td>...</td>\n",
       "      <td>...</td>\n",
       "      <td>...</td>\n",
       "      <td>...</td>\n",
       "    </tr>\n",
       "    <tr>\n",
       "      <th>6465</th>\n",
       "      <td>0.0</td>\n",
       "      <td>K</td>\n",
       "      <td>N</td>\n",
       "      <td>50.000</td>\n",
       "    </tr>\n",
       "    <tr>\n",
       "      <th>6549</th>\n",
       "      <td>0.0</td>\n",
       "      <td>NQQ</td>\n",
       "      <td>N</td>\n",
       "      <td>70.000</td>\n",
       "    </tr>\n",
       "    <tr>\n",
       "      <th>6559</th>\n",
       "      <td>0.0</td>\n",
       "      <td>NK</td>\n",
       "      <td>N</td>\n",
       "      <td>70.000</td>\n",
       "    </tr>\n",
       "    <tr>\n",
       "      <th>6561</th>\n",
       "      <td>0.0</td>\n",
       "      <td>K</td>\n",
       "      <td>N</td>\n",
       "      <td>50.000</td>\n",
       "    </tr>\n",
       "    <tr>\n",
       "      <th>6589</th>\n",
       "      <td>0.0</td>\n",
       "      <td>K</td>\n",
       "      <td>W</td>\n",
       "      <td>290.000</td>\n",
       "    </tr>\n",
       "  </tbody>\n",
       "</table>\n",
       "<p>608 rows × 4 columns</p>\n",
       "</div>"
      ],
      "text/plain": [
       "      total_price room_type stay_duration  fill_p25\n",
       "12            0.0        NK             N    60.000\n",
       "42            0.0         K             N    70.000\n",
       "44            0.0        NK             N    51.675\n",
       "54            0.0         K             N    60.000\n",
       "57            0.0         K             N    67.500\n",
       "...           ...       ...           ...       ...\n",
       "6465          0.0         K             N    50.000\n",
       "6549          0.0       NQQ             N    70.000\n",
       "6559          0.0        NK             N    70.000\n",
       "6561          0.0         K             N    50.000\n",
       "6589          0.0         K             W   290.000\n",
       "\n",
       "[608 rows x 4 columns]"
      ]
     },
     "execution_count": 7,
     "metadata": {},
     "output_type": "execute_result"
    }
   ],
   "source": [
    "df['fill_p25'] = df.groupby(['checkin_year','checkin_month', 'room_type', 'stay_duration'])['fill_mean'].transform(lambda x: x.fillna(x.quantile(.25)))\n",
    "\n",
    "df.loc[df.total_price == 0.00, ['total_price', 'room_type', 'stay_duration', 'fill_p25']]"
   ]
  },
  {
   "cell_type": "code",
   "execution_count": 8,
   "id": "d7b7c611",
   "metadata": {},
   "outputs": [],
   "source": [
    "adj_df = df.copy()"
   ]
  },
  {
   "cell_type": "code",
   "execution_count": 9,
   "id": "c31244bb",
   "metadata": {},
   "outputs": [
    {
     "name": "stdout",
     "output_type": "stream",
     "text": [
      "Total price difference: $45839.99\n"
     ]
    }
   ],
   "source": [
    "delta = format(adj_df['fill_p25'].sum() - adj_df['total_price'].sum(), \".2f\")\n",
    "print(f\"Total price difference: ${delta}\")"
   ]
  },
  {
   "cell_type": "code",
   "execution_count": 10,
   "id": "3754a176",
   "metadata": {},
   "outputs": [
    {
     "data": {
      "text/plain": [
       "checkin_year  checkin_month\n",
       "2023          6                34844.91\n",
       "              7                41177.40\n",
       "              8                36698.06\n",
       "              9                30301.80\n",
       "              10                3095.00\n",
       "Name: fill_p25, dtype: float64"
      ]
     },
     "execution_count": 10,
     "metadata": {},
     "output_type": "execute_result"
    }
   ],
   "source": [
    "# Since we took over.\n",
    "adj_df[(adj_df.checkin_year == 2023)&(adj_df.checkin_month >= 6)].groupby(['checkin_year','checkin_month'])['fill_p25'].sum()"
   ]
  },
  {
   "cell_type": "code",
   "execution_count": 11,
   "id": "3f6a7d1e",
   "metadata": {},
   "outputs": [],
   "source": [
    "# Group by 'checkin_year' and 'checkin_month' and calculate the sum of 'total_price' and 'fill_mean'\n",
    "monthly_adj_df = adj_df[adj_df.checkin_year == 2023].groupby(['checkin_year','checkin_month']).agg({'total_price': 'sum', 'fill_p25': 'sum'})\n",
    "\n",
    "# Calculate the difference between the sums of each month for 'total_price' and 'fill_mean'\n",
    "monthly_adj_df['diff_sum'] = monthly_adj_df['fill_p25'] - monthly_adj_df['total_price']"
   ]
  },
  {
   "cell_type": "markdown",
   "id": "3cba7257",
   "metadata": {},
   "source": []
  },
  {
   "cell_type": "code",
   "execution_count": 12,
   "id": "f28b81ee",
   "metadata": {},
   "outputs": [
    {
     "data": {
      "text/html": [
       "<div>\n",
       "<style scoped>\n",
       "    .dataframe tbody tr th:only-of-type {\n",
       "        vertical-align: middle;\n",
       "    }\n",
       "\n",
       "    .dataframe tbody tr th {\n",
       "        vertical-align: top;\n",
       "    }\n",
       "\n",
       "    .dataframe thead th {\n",
       "        text-align: right;\n",
       "    }\n",
       "</style>\n",
       "<table border=\"1\" class=\"dataframe\">\n",
       "  <thead>\n",
       "    <tr style=\"text-align: right;\">\n",
       "      <th></th>\n",
       "      <th></th>\n",
       "      <th>total_price</th>\n",
       "      <th>fill_p25</th>\n",
       "      <th>diff_sum</th>\n",
       "    </tr>\n",
       "    <tr>\n",
       "      <th>checkin_year</th>\n",
       "      <th>checkin_month</th>\n",
       "      <th></th>\n",
       "      <th></th>\n",
       "      <th></th>\n",
       "    </tr>\n",
       "  </thead>\n",
       "  <tbody>\n",
       "    <tr>\n",
       "      <th rowspan=\"10\" valign=\"top\">2023</th>\n",
       "      <th>1</th>\n",
       "      <td>21984.73</td>\n",
       "      <td>30012.6675</td>\n",
       "      <td>8027.9375</td>\n",
       "    </tr>\n",
       "    <tr>\n",
       "      <th>2</th>\n",
       "      <td>17359.28</td>\n",
       "      <td>23144.4800</td>\n",
       "      <td>5785.2000</td>\n",
       "    </tr>\n",
       "    <tr>\n",
       "      <th>3</th>\n",
       "      <td>21070.20</td>\n",
       "      <td>25622.5300</td>\n",
       "      <td>4552.3300</td>\n",
       "    </tr>\n",
       "    <tr>\n",
       "      <th>4</th>\n",
       "      <td>23116.47</td>\n",
       "      <td>29946.0825</td>\n",
       "      <td>6829.6125</td>\n",
       "    </tr>\n",
       "    <tr>\n",
       "      <th>5</th>\n",
       "      <td>20981.48</td>\n",
       "      <td>26531.4550</td>\n",
       "      <td>5549.9750</td>\n",
       "    </tr>\n",
       "    <tr>\n",
       "      <th>6</th>\n",
       "      <td>34604.91</td>\n",
       "      <td>34844.9100</td>\n",
       "      <td>240.0000</td>\n",
       "    </tr>\n",
       "    <tr>\n",
       "      <th>7</th>\n",
       "      <td>40508.55</td>\n",
       "      <td>41177.4000</td>\n",
       "      <td>668.8500</td>\n",
       "    </tr>\n",
       "    <tr>\n",
       "      <th>8</th>\n",
       "      <td>36533.06</td>\n",
       "      <td>36698.0600</td>\n",
       "      <td>165.0000</td>\n",
       "    </tr>\n",
       "    <tr>\n",
       "      <th>9</th>\n",
       "      <td>30241.80</td>\n",
       "      <td>30301.8000</td>\n",
       "      <td>60.0000</td>\n",
       "    </tr>\n",
       "    <tr>\n",
       "      <th>10</th>\n",
       "      <td>3095.00</td>\n",
       "      <td>3095.0000</td>\n",
       "      <td>0.0000</td>\n",
       "    </tr>\n",
       "  </tbody>\n",
       "</table>\n",
       "</div>"
      ],
      "text/plain": [
       "                            total_price    fill_p25   diff_sum\n",
       "checkin_year checkin_month                                    \n",
       "2023         1                 21984.73  30012.6675  8027.9375\n",
       "             2                 17359.28  23144.4800  5785.2000\n",
       "             3                 21070.20  25622.5300  4552.3300\n",
       "             4                 23116.47  29946.0825  6829.6125\n",
       "             5                 20981.48  26531.4550  5549.9750\n",
       "             6                 34604.91  34844.9100   240.0000\n",
       "             7                 40508.55  41177.4000   668.8500\n",
       "             8                 36533.06  36698.0600   165.0000\n",
       "             9                 30241.80  30301.8000    60.0000\n",
       "             10                 3095.00   3095.0000     0.0000"
      ]
     },
     "execution_count": 12,
     "metadata": {},
     "output_type": "execute_result"
    }
   ],
   "source": [
    "monthly_adj_df"
   ]
  }
 ],
 "metadata": {
  "kernelspec": {
   "display_name": "Python 3",
   "language": "python",
   "name": "python3"
  },
  "language_info": {
   "codemirror_mode": {
    "name": "ipython",
    "version": 3
   },
   "file_extension": ".py",
   "mimetype": "text/x-python",
   "name": "python",
   "nbconvert_exporter": "python",
   "pygments_lexer": "ipython3",
   "version": "3.12.3"
  }
 },
 "nbformat": 4,
 "nbformat_minor": 5
}
