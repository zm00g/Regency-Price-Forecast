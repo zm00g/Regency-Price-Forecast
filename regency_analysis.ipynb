{
 "cells": [
  {
   "cell_type": "code",
   "execution_count": 3,
   "outputs": [],
   "source": [
    "import pandas as pd"
   ],
   "metadata": {
    "collapsed": false,
    "ExecuteTime": {
     "end_time": "2023-11-14T21:33:27.027945Z",
     "start_time": "2023-11-14T21:33:27.019814Z"
    }
   },
   "id": "1e7beee03c016b4e"
  },
  {
   "cell_type": "code",
   "execution_count": 4,
   "outputs": [],
   "source": [
    "qpd_df = pd.read_csv(\"data/qinn_processed_data.csv\")\n",
    "\n",
    "df = qpd_df.copy()"
   ],
   "metadata": {
    "collapsed": false,
    "ExecuteTime": {
     "end_time": "2023-11-14T21:35:22.840310Z",
     "start_time": "2023-11-14T21:35:22.812540Z"
    }
   },
   "id": "1eb97206ddffc5fc"
  },
  {
   "cell_type": "code",
   "execution_count": 5,
   "outputs": [
    {
     "name": "stdout",
     "output_type": "stream",
     "text": [
      "<class 'pandas.core.frame.DataFrame'>\n",
      "RangeIndex: 6665 entries, 0 to 6664\n",
      "Data columns (total 26 columns):\n",
      " #   Column                Non-Null Count  Dtype  \n",
      "---  ------                --------------  -----  \n",
      " 0   room_num              6665 non-null   int64  \n",
      " 1   room_type             6665 non-null   object \n",
      " 2   customer_id           6665 non-null   object \n",
      " 3   stay_duration         6663 non-null   object \n",
      " 4   total_price           6665 non-null   float64\n",
      " 5   price                 6665 non-null   float64\n",
      " 6   tax                   6665 non-null   float64\n",
      " 7   customer_name         6665 non-null   object \n",
      " 8   checkin_datetime      6665 non-null   object \n",
      " 9   checkout_datetime     6665 non-null   object \n",
      " 10  days                  6665 non-null   float64\n",
      " 11  hours                 6665 non-null   float64\n",
      " 12  checkin_month         6665 non-null   int64  \n",
      " 13  checkin_day           6665 non-null   int64  \n",
      " 14  checkin_year          6665 non-null   int64  \n",
      " 15  checkin_time          6665 non-null   object \n",
      " 16  checkin_weekday       6665 non-null   int64  \n",
      " 17  checkin_day_name      6665 non-null   object \n",
      " 18  checkin_time_period   6665 non-null   object \n",
      " 19  checkout_month        6665 non-null   int64  \n",
      " 20  checkout_day          6665 non-null   int64  \n",
      " 21  checkout_year         6665 non-null   int64  \n",
      " 22  checkout_time         6665 non-null   object \n",
      " 23  checkout_weekday      6665 non-null   int64  \n",
      " 24  checkout_day_name     6665 non-null   object \n",
      " 25  checkout_time_period  6665 non-null   object \n",
      "dtypes: float64(5), int64(9), object(12)\n",
      "memory usage: 1.3+ MB\n"
     ]
    }
   ],
   "source": [
    "df.info()"
   ],
   "metadata": {
    "collapsed": false,
    "ExecuteTime": {
     "end_time": "2023-11-14T21:35:39.525447Z",
     "start_time": "2023-11-14T21:35:39.517848Z"
    }
   },
   "id": "e71638a60324e64d"
  },
  {
   "cell_type": "code",
   "execution_count": null,
   "outputs": [],
   "source": [],
   "metadata": {
    "collapsed": false
   },
   "id": "3f819033a9af4f89"
  }
 ],
 "metadata": {
  "kernelspec": {
   "display_name": "Python 3",
   "language": "python",
   "name": "python3"
  },
  "language_info": {
   "codemirror_mode": {
    "name": "ipython",
    "version": 2
   },
   "file_extension": ".py",
   "mimetype": "text/x-python",
   "name": "python",
   "nbconvert_exporter": "python",
   "pygments_lexer": "ipython2",
   "version": "2.7.6"
  }
 },
 "nbformat": 4,
 "nbformat_minor": 5
}
